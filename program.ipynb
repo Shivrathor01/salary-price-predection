{
 "cells": [
  {
   "cell_type": "markdown",
   "id": "d6bcaa8c-813c-4270-9801-91391ed4aa3c",
   "metadata": {},
   "source": [
    "Question 1:\n",
    "Wap in python to convert celcius to farenheight"
   ]
  },
  {
   "cell_type": "code",
   "execution_count": 4,
   "id": "59d44600-ea12-4392-a3f9-e3da777f7d38",
   "metadata": {},
   "outputs": [
    {
     "name": "stdin",
     "output_type": "stream",
     "text": [
      "Enter temperature in celcius 34\n"
     ]
    }
   ],
   "source": [
    "c = float(input(\"Enter temperature in celcius\"))\n"
   ]
  },
  {
   "cell_type": "code",
   "execution_count": 5,
   "id": "a4400527-0cdd-4d4b-9057-0f641d112283",
   "metadata": {},
   "outputs": [],
   "source": [
    "f = (9/5 * c) + 32"
   ]
  },
  {
   "cell_type": "code",
   "execution_count": 6,
   "id": "69cf5f73-ec5c-4921-ab97-9f4148ac6479",
   "metadata": {
    "scrolled": true
   },
   "outputs": [
    {
     "data": {
      "text/plain": [
       "93.2"
      ]
     },
     "execution_count": 6,
     "metadata": {},
     "output_type": "execute_result"
    }
   ],
   "source": [
    "f"
   ]
  },
  {
   "cell_type": "markdown",
   "id": "6b82e032-ff59-46d2-b5c6-9787ab3302fa",
   "metadata": {},
   "source": [
    "Question 2:\n",
    "WAP in python to convert cm to height and inches"
   ]
  },
  {
   "cell_type": "code",
   "execution_count": 7,
   "id": "fc3ef7f2-eca3-44eb-a817-d8ee97c11198",
   "metadata": {},
   "outputs": [
    {
     "name": "stdin",
     "output_type": "stream",
     "text": [
      "Enter height in cm 180\n"
     ]
    }
   ],
   "source": [
    "c = float(input(\"Enter height in cm\"))"
   ]
  },
  {
   "cell_type": "code",
   "execution_count": 13,
   "id": "cd00bea1-cc24-4da0-8f03-3ab1d17bb9ec",
   "metadata": {},
   "outputs": [
    {
     "name": "stdout",
     "output_type": "stream",
     "text": [
      "180.0 centimeter is approximately 5 feet and 10.87 inches.\n"
     ]
    }
   ],
   "source": [
    "total_inches = c / 2.54\n",
    "feet = int(total_inches // 12)\n",
    "inches = total_inches % 12\n",
    "print(f\"{c} centimeter is approximately {feet} feet and {inches:.2f} inches.\")"
   ]
  },
  {
   "cell_type": "markdown",
   "id": "18b8401c-52e1-45e8-99e0-eb30ffb2a19b",
   "metadata": {},
   "source": [
    "Question 3:\n",
    "Wap to add two numbers"
   ]
  },
  {
   "cell_type": "code",
   "execution_count": 15,
   "id": "3e4dd803-bca3-4639-8f42-14700398ffc4",
   "metadata": {},
   "outputs": [
    {
     "name": "stdin",
     "output_type": "stream",
     "text": [
      "Enter number 1 2\n",
      "Enter number 2 3\n"
     ]
    }
   ],
   "source": [
    "x = int(input(\"Enter number 1\"))\n",
    "y = int(input(\"Enter number 2\"))\n",
    "c = x+y"
   ]
  },
  {
   "cell_type": "code",
   "execution_count": 16,
   "id": "282d4269-3c41-4145-97ca-c1eecb4e12db",
   "metadata": {},
   "outputs": [
    {
     "data": {
      "text/plain": [
       "5"
      ]
     },
     "execution_count": 16,
     "metadata": {},
     "output_type": "execute_result"
    }
   ],
   "source": [
    "c"
   ]
  },
  {
   "cell_type": "markdown",
   "id": "97725cb5-6de7-4c64-86fd-bab6d5acfbf1",
   "metadata": {},
   "source": [
    "Question 4 :\n",
    "Wap in python to exchange value of two numbers without using third variable"
   ]
  },
  {
   "cell_type": "code",
   "execution_count": 17,
   "id": "fe411dbd-12e7-4d18-8830-35beb2fe9092",
   "metadata": {},
   "outputs": [
    {
     "name": "stdin",
     "output_type": "stream",
     "text": [
      "Enter number 1 3\n",
      "Enter number 2 4\n"
     ]
    }
   ],
   "source": [
    "a = int(input(\"Enter number 1\"))\n",
    "b = int(input(\"Enter number 2\"))"
   ]
  },
  {
   "cell_type": "code",
   "execution_count": 18,
   "id": "1c176e1b-e832-429b-829d-d19398d724f0",
   "metadata": {},
   "outputs": [],
   "source": [
    "a , b = b , a"
   ]
  },
  {
   "cell_type": "code",
   "execution_count": 19,
   "id": "07b7a3d3-897b-4b83-9f2c-0fcd2d2e08e1",
   "metadata": {},
   "outputs": [
    {
     "data": {
      "text/plain": [
       "4"
      ]
     },
     "execution_count": 19,
     "metadata": {},
     "output_type": "execute_result"
    }
   ],
   "source": [
    "a"
   ]
  },
  {
   "cell_type": "code",
   "execution_count": 20,
   "id": "c3de8159-1740-4c29-a43d-fbeb780b3105",
   "metadata": {},
   "outputs": [
    {
     "data": {
      "text/plain": [
       "3"
      ]
     },
     "execution_count": 20,
     "metadata": {},
     "output_type": "execute_result"
    }
   ],
   "source": [
    "b"
   ]
  },
  {
   "cell_type": "markdown",
   "id": "5c20cde1-c650-4e3d-84c8-fc513b1cac16",
   "metadata": {},
   "source": [
    "Question 5:\n",
    "Wap in python to find area of circle "
   ]
  },
  {
   "cell_type": "code",
   "execution_count": 21,
   "id": "95c24f75-adb5-47d2-af8f-d7cbea82e2e3",
   "metadata": {},
   "outputs": [
    {
     "name": "stdin",
     "output_type": "stream",
     "text": [
      "Enter number radius 24\n"
     ]
    }
   ],
   "source": [
    "radius = int(input(\"Enter number radius\"))"
   ]
  },
  {
   "cell_type": "code",
   "execution_count": 22,
   "id": "bcca32e4-69a1-4e29-926a-b5e3471a32cd",
   "metadata": {},
   "outputs": [],
   "source": [
    "area = 3.14*radius*radius "
   ]
  },
  {
   "cell_type": "code",
   "execution_count": 23,
   "id": "adda9509-6706-42f7-9d09-6a84a1dad1c8",
   "metadata": {},
   "outputs": [
    {
     "data": {
      "text/plain": [
       "1808.6399999999999"
      ]
     },
     "execution_count": 23,
     "metadata": {},
     "output_type": "execute_result"
    }
   ],
   "source": [
    "area"
   ]
  },
  {
   "cell_type": "markdown",
   "id": "1e0df960-ddf1-4e98-85cc-226ec8a7e0fe",
   "metadata": {},
   "source": [
    "Question 6:\n",
    "Wap in python to calculate simple intrest "
   ]
  },
  {
   "cell_type": "code",
   "execution_count": 24,
   "id": "1ccd28df-a999-49ec-8d9f-4c1bcdadff7d",
   "metadata": {},
   "outputs": [
    {
     "name": "stdin",
     "output_type": "stream",
     "text": [
      "Enter the principal amount:  1000\n",
      "Enter the annual interest rate (in percentage):  5\n",
      "Enter the time (in years):  3\n"
     ]
    }
   ],
   "source": [
    "principal = float(input(\"Enter the principal amount: \"))\n",
    "rate = float(input(\"Enter the annual interest rate (in percentage): \"))\n",
    "time = float(input(\"Enter the time (in years): \"))"
   ]
  },
  {
   "cell_type": "code",
   "execution_count": 26,
   "id": "f4ed8f1b-049e-438f-bb9c-796c3c2aee5d",
   "metadata": {},
   "outputs": [],
   "source": [
    "cal = (principal*rate*time) / 100"
   ]
  },
  {
   "cell_type": "code",
   "execution_count": 27,
   "id": "75227583-9ed1-4279-8a6c-bbd1a2e4574f",
   "metadata": {},
   "outputs": [
    {
     "data": {
      "text/plain": [
       "150.0"
      ]
     },
     "execution_count": 27,
     "metadata": {},
     "output_type": "execute_result"
    }
   ],
   "source": [
    "cal"
   ]
  }
 ],
 "metadata": {
  "kernelspec": {
   "display_name": "Python 3 (ipykernel)",
   "language": "python",
   "name": "python3"
  },
  "language_info": {
   "codemirror_mode": {
    "name": "ipython",
    "version": 3
   },
   "file_extension": ".py",
   "mimetype": "text/x-python",
   "name": "python",
   "nbconvert_exporter": "python",
   "pygments_lexer": "ipython3",
   "version": "3.12.2"
  }
 },
 "nbformat": 4,
 "nbformat_minor": 5
}
